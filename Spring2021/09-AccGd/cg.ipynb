{
 "cells": [
  {
   "cell_type": "markdown",
   "metadata": {
    "slideshow": {
     "slide_type": "slide"
    }
   },
   "source": [
    "# Метод сопряжённых градиентов (Conjugate gradient method)"
   ]
  },
  {
   "cell_type": "markdown",
   "metadata": {
    "slideshow": {
     "slide_type": "slide"
    }
   },
   "source": [
    "## Система линейных уравнений vs. задача безусловной минимизации\n",
    "Рассмотрим задачу\n",
    "\n",
    "$$\n",
    "\\min_{x \\in \\mathbb{R}^n} \\frac{1}{2}x^{\\top}Ax - b^{\\top}x,\n",
    "$$\n",
    "\n",
    "где $A \\in \\mathbb{S}^n_{++}$.\n",
    "Из необходимого условия экстремума имеем\n",
    "\n",
    "$$\n",
    "Ax^* = b\n",
    "$$\n",
    "\n",
    "Также обозначим $f'(x_k) = Ax_k - b = r_k$"
   ]
  },
  {
   "cell_type": "markdown",
   "metadata": {
    "slideshow": {
     "slide_type": "slide"
    }
   },
   "source": [
    "## Как решить систему $Ax = b$?\n",
    "\n",
    "- Прямые методы основаны на матричных разложениях:\n",
    "    - Плотная матрица $A$: для размерностей не больше нескольких тысяч\n",
    "    - Разреженная (sparse) матрица $A$: для размерностей порядка $10^4 - 10^5$\n",
    "- Итерационные методы: хороши во многих случаях, единственный подход для задач с размерностью $ > 10^6$"
   ]
  },
  {
   "cell_type": "markdown",
   "metadata": {
    "slideshow": {
     "slide_type": "slide"
    }
   },
   "source": [
    "## Немного истории...\n",
    "\n",
    "M. Hestenes и E. Stiefel предложили *метод сопряжённых градиентов* для решения систем линейных уравнений в 1952 году как **прямой** метод. \n",
    "\n",
    "Также долгое время считалось, что метод представляет только теоретический интерес поскольку\n",
    "- метод сопряжённых градиентов не работает на логарифмической линейке\n",
    "- метод сопряжённых градиентов имеет небольшое преимущество перед исключением Гаусса при вычислениях на калькуляторе \n",
    "- для вычислений на \"human computers\" слишком много обменов данными\n",
    "\n",
    "<img src=\"./human_computer.jpeg\">\n",
    "\n",
    "Метод сопряжённых градиентов необходимо рассматривать как **итерационный метод**, то есть останавливаться до точной сходимости!\n",
    "\n",
    "Подробнее [здесь](https://www.siam.org/meetings/la09/talks/oleary.pdf)"
   ]
  },
  {
   "cell_type": "markdown",
   "metadata": {
    "slideshow": {
     "slide_type": "slide"
    }
   },
   "source": [
    "## Метод сопряжённых направлений\n",
    "\n",
    "В градиентном спуске направления убывания - анти-градиенты, но для функций с плохо обусловленным гессианом сходимость **медленная**.\n",
    "\n",
    "**Идея:** двигаться вдоль направлений, которые гарантируют сходимость за $n$ шагов.\n",
    "\n",
    "**Определение.** Множество ненулевых векторов $\\{p_0, \\ldots, p_l\\}$ называется *сопряжённым* относительно матрицы $A \\in \\mathbb{S}^n_{++}$, если \n",
    "\n",
    "$$\n",
    "p^{\\top}_iAp_j = 0, \\qquad i \\neq j\n",
    "$$"
   ]
  },
  {
   "cell_type": "markdown",
   "metadata": {
    "slideshow": {
     "slide_type": "slide"
    }
   },
   "source": [
    "**Утверждение.** Для любой $x_0 \\in \\mathbb{R}^n$ последовательность $\\{x_k\\}$, генерируемая методом сопряжённых направлений, сходится к решению системы $Ax = b$ максимум за $n$ шагов.\n",
    "\n",
    "```python\n",
    "def ConjugateDirections(x0, A, b, p):\n",
    "    \n",
    "    x = x0\n",
    "    \n",
    "    r = A.dot(x) - b\n",
    "    \n",
    "    for i in range(len(p)):\n",
    "        \n",
    "        alpha = - (r.dot(p[i])) / (p[i].dot(A.dot(p[i])))\n",
    "        \n",
    "        x = x + alpha * p[i]\n",
    "        \n",
    "        r = A.dot(x) - b\n",
    "        \n",
    "    return x\n",
    "\n",
    "```"
   ]
  },
  {
   "cell_type": "markdown",
   "metadata": {
    "slideshow": {
     "slide_type": "slide"
    }
   },
   "source": [
    "### Примеры сопряжённых направлений\n",
    "\n",
    "- Собственные векторы матрицы $A$\n",
    "- Для любого набора из $n$ векторов можно провести аналог ортогонализации Грама-Шмидта и получить сопряжённые направления\n",
    "\n",
    "**Вопрос:** что такое ортогонализация Грама-Шмидта? :)"
   ]
  },
  {
   "cell_type": "markdown",
   "metadata": {
    "slideshow": {
     "slide_type": "slide"
    }
   },
   "source": [
    "### Геометрическая интерпретация (Mathematics Stack Exchange)\n",
    "\n",
    "<center><img src=\"./cg.png\" ></center>"
   ]
  },
  {
   "cell_type": "markdown",
   "metadata": {
    "slideshow": {
     "slide_type": "slide"
    }
   },
   "source": [
    "## Метод сопряжённых градиентов\n",
    "\n",
    "**Идея:** новое направление $p_k$ ищется в виде $p_k = -r_k + \\beta_k p_{k-1}$, где $\\beta_k$ выбирается, исходя из требования сопряжённости $p_k$ и $p_{k-1}$:\n",
    "\n",
    "$$\n",
    "\\beta_k = \\dfrac{p^{\\top}_{k-1}Ar_k}{p^{\\top}_{k-1}Ap_{k-1}}\n",
    "$$\n",
    "\n",
    "Таким образом, для получения следующего сопряжённого направления $p_k$ необходимо хранить только сопряжённое направление $p_{k-1}$ и остаток $r_k$ с предыдущей итерации. \n",
    "\n",
    "**Вопрос:** как находить размер шага $\\alpha_k$?"
   ]
  },
  {
   "cell_type": "markdown",
   "metadata": {
    "slideshow": {
     "slide_type": "slide"
    }
   },
   "source": [
    "## Сопряжённость сопряжённых градиентов\n",
    "\n",
    "**Теорема**\n",
    "Пусть после $k$ итераций $x_k \\neq x^*$. Тогда \n",
    "\n",
    "- $\\langle r_k, r_i \\rangle = 0, \\; i = 1, \\ldots k - 1$\n",
    "- $\\mathtt{span}(r_0, \\ldots, r_k) = \\mathtt{span}(r_0, Ar_0, \\ldots, A^kr_0)$\n",
    "- $\\mathtt{span}(p_0, \\ldots, p_k) = \\mathtt{span}(r_0, Ar_0, \\ldots, A^kr_0)$\n",
    "- $p_k^{\\top}Ap_i = 0$, $i = 1,\\ldots,k-1$"
   ]
  },
  {
   "cell_type": "markdown",
   "metadata": {
    "slideshow": {
     "slide_type": "slide"
    }
   },
   "source": [
    "### Теоремы сходимости\n",
    "\n",
    "**Теорема 1.** Если матрица $A$ имеет только $r$ различных собственных значений, то метод сопряжённых градиентов cойдётся за $r$ итераций.\n",
    "\n",
    "**Теорема 2.** Имеет место следующая оценка сходимости\n",
    "\n",
    "$$\n",
    "\\| x_{k} - x^* \\|_A \\leq 2\\left( \\dfrac{\\sqrt{\\kappa(A)} - 1}{\\sqrt{\\kappa(A)} + 1} \\right)^k \\|x_0 - x^*\\|_A,\n",
    "$$\n",
    "\n",
    "где $\\|x\\|_A = x^{\\top}Ax$ и $\\kappa(A) = \\frac{\\lambda_1(A)}{\\lambda_n(A)}$ - число обусловленности матрицы $A$, $\\lambda_1(A) \\geq ... \\geq \\lambda_n(A)$ - собственные значения матрицы $A$\n",
    "\n",
    "**Замечание:** сравните коэффициент геометрической прогрессии с аналогом в градиентном спуске."
   ]
  },
  {
   "cell_type": "markdown",
   "metadata": {
    "slideshow": {
     "slide_type": "slide"
    }
   },
   "source": [
    "### Интерпретации метода сопряжённых градиентов\n",
    "\n",
    "- Градиентный спуск в пространстве $y = Sx$, где $S = [p_0, \\ldots, p_n]$, в котором матрица $A$ становится диагональной (или единичной в случае ортонормированности сопряжённых направлений)\n",
    "- Поиск оптимального решения в [Крыловском подпространстве](https://stanford.edu/class/ee364b/lectures/conj_grad_slides.pdf) $\\mathcal{K}_k(A) = \\{b, Ab, A^2b, \\ldots A^{k-1}b\\}$\n",
    "\n",
    "$$\n",
    "x_k = \\arg\\min_{x \\in \\mathcal{K}_k} f(x)\n",
    "$$\n",
    "\n",
    "- Однако естественный базис Крыловского пространства неортогональный и, более того, **плохо обусловлен**.\n",
    "\n",
    "**Упражнение** Проверьте численно, насколько быстро растёт обусловленность матрицы из векторов $\\{b, Ab, ... \\}$\n",
    "\n",
    "- Поэтому его необходимо ортогонализовать, что и происходит в методе сопряжённых градиентов"
   ]
  },
  {
   "cell_type": "markdown",
   "metadata": {
    "slideshow": {
     "slide_type": "slide"
    }
   },
   "source": [
    "### Основное свойство\n",
    "$$ \n",
    "A^{-1}b \\in \\mathcal{K}_n(A)\n",
    "$$\n",
    "\n",
    "Доказательство\n",
    "\n",
    "- Теорема Гамильтона-Кэли: $p(A) = 0$, где $p(\\lambda) = \\det(A - \\lambda I)$\n",
    "- $p(A)b = A^nb + a_1A^{n-1}b + \\ldots + a_{n-1}Ab + a_n b = 0$\n",
    "- $A^{-1}p(A)b = A^{n-1}b + a_1A^{n-2}b + \\ldots + a_{n-1}b + a_nA^{-1}b = 0$\n",
    "- $A^{-1}b = -\\frac{1}{a_n}(A^{n-1}b + a_1A^{n-2}b + \\ldots + a_{n-1}b)$"
   ]
  },
  {
   "cell_type": "markdown",
   "metadata": {
    "slideshow": {
     "slide_type": "slide"
    }
   },
   "source": [
    "### Сходимость по функции и по аргументу\n",
    "\n",
    "- Решение: $x^* = A^{-1}b$\n",
    "- Минимум функции: \n",
    "\n",
    "$$\n",
    "f^* = \\frac{1}{2}b^{\\top}A^{-\\top}AA^{-1}b - b^{\\top}A^{-1}b = -\\frac{1}{2}b^{\\top}A^{-1}b = -\\frac{1}{2}\\|x^*\\|^2_A\n",
    "$$ \n",
    "\n",
    "- Оценка сходимости по функции: \n",
    "\n",
    "$$ \n",
    "f(x) - f^* = \\frac{1}{2}x^{\\top}Ax - b^{\\top}x + \\frac{1}{2}\\|x^*\\|_A^2 =\\frac{1}{2}\\|x\\|_A^2 - x^{\\top}Ax^* + \\frac{1}{2}\\|x^*\\|_A^2 = \\frac{1}{2}\\|x - x^*\\|_A^2 \n",
    "$$ \n"
   ]
  },
  {
   "cell_type": "markdown",
   "metadata": {
    "slideshow": {
     "slide_type": "slide"
    }
   },
   "source": [
    "### Доказательство сходимости\n",
    "\n",
    "- $x_k$ лежит в $\\mathcal{K}_k$\n",
    "- $x_k = \\sum\\limits_{i=1}^k c_i A^{i-1}b = p(A)b$, где $p(x)$ некоторый полином степени не выше $k-1$\n",
    "- $x_k$ минимизирует $f$ на $\\mathcal{K}_k$, отсюда\n",
    "\n",
    "$$\n",
    "2(f_k - f^*) = \\inf_{x \\in \\mathcal{K}_k} \\|x - x^* \\|^2_A = \\inf_{\\mathrm{deg}(p) < k} \\|(p(A) - A^{-1})b\\|^2_A\n",
    "$$\n",
    "\n",
    "- Спектральное разложение $A = U\\Lambda U^*$ даёт\n",
    "\n",
    "$$\n",
    "2(f_k - f^*) = \\inf_{\\mathrm{deg}(p) < k} \\|(p(\\Lambda) - \\Lambda^{-1})d\\|^2_{\\Lambda} = \\inf_{\\mathrm{deg}(p) < k} \\sum_{i=1}^n\\frac{d_i^2 (\\lambda_ip(\\lambda_i) - 1)^2}{\\lambda_i} = \\inf_{\\mathrm{deg}(q) \\leq k, q(0) = 1} \\sum_{i=1}^n\\frac{d_i^2 q(\\lambda_i)^2}{\\lambda_i}\n",
    "$$\n",
    "\n",
    "- Сведём задачу к поиску некоторого многочлена\n",
    "$$\n",
    "f_k - f^* \\leq \\left(\\sum_{i=1}^n \\frac{d_i^2}{2\\lambda_i}\\right) \\inf_{\\mathrm{deg}(q) \\leq k, q(0) = 1}\\left(\\max_{i=1,\\ldots,n} q(\\lambda_i)^2 \\right) = \\frac{1}{2}\\|x^*\\|^2_A \\inf_{\\mathrm{deg}(q) \\leq k, q(0) = 1}\\left(\\max_{i=1,\\ldots,n} q(\\lambda_i)^2 \\right)\n",
    "$$\n",
    "\n",
    "- Пусть $A$ имеет $m$ различных собственных значений, тогда для \n",
    "\n",
    "$$\n",
    "r(y) = \\frac{(-1)^m}{\\lambda_1 \\cdot \\ldots \\cdot \\lambda_m}(y - \\lambda_i)\\cdot \\ldots \\cdot (y - \\lambda_m)\n",
    "$$\n",
    "\n",
    "выполнено $\\mathrm{deg}(r) = m$ и $r(0) = 1$\n",
    "- Значение для оптимального полинома  степени не выше $k$ оценим сверху значением для полинома $r$ степени $m$\n",
    "\n",
    "$$\n",
    "0 \\leq f_k - f^* \\leq \\frac{1}{2}\\|x^*\\|_A^2 \\max_{i=1,\\ldots,m} r(\\lambda_i) = 0\n",
    "$$\n",
    "- Метод сопряжённых градиентов сошёлся за $m$ итераций\n"
   ]
  },
  {
   "cell_type": "markdown",
   "metadata": {
    "slideshow": {
     "slide_type": "slide"
    }
   },
   "source": [
    "### Улучшенная версия метода сопряжённых градиентов\n",
    "На практике используются следующие формулы для шага $\\alpha_k$ и коэффициента $\\beta_{k}$:\n",
    "\n",
    "$$\n",
    "\\alpha_k = \\dfrac{r^{\\top}_k r_k}{p^{\\top}_{k}Ap_{k}} \\qquad \\beta_k = \\dfrac{r^{\\top}_k r_k}{r^{\\top}_{k-1} r_{k-1}}\n",
    "$$\n",
    "\n",
    "**Вопрос:** чем они лучше базовой версии?"
   ]
  },
  {
   "cell_type": "markdown",
   "metadata": {
    "slideshow": {
     "slide_type": "slide"
    }
   },
   "source": [
    "### Псевдокод метода сопряжённых градиентов\n",
    "```python\n",
    "def ConjugateGradientQuadratic(x0, A, b, eps):\n",
    "    \n",
    "    r = A.dot(x0) - b\n",
    "    \n",
    "    p = -r\n",
    "    \n",
    "    while np.linalg.norm(r) > eps:\n",
    "        \n",
    "        alpha = r.dot(r) / p.dot(A.dot(p))\n",
    "        \n",
    "        x = x + alpha * p\n",
    "        \n",
    "        r_next = r + alpha * A.dot(p)\n",
    "        \n",
    "        beta = r_next.dot(r_next) / r.dot(r)\n",
    "        \n",
    "        p = -r_next + beta * p\n",
    "        \n",
    "        r = r_next\n",
    "        \n",
    "    return x\n",
    "```"
   ]
  },
  {
   "cell_type": "markdown",
   "metadata": {
    "slideshow": {
     "slide_type": "slide"
    }
   },
   "source": [
    "## Метод сопряжённых градиентов для неквадратичной функции\n",
    "**Идея:** использовать градиенты $f'(x_k)$ неквадратичной функции вместо остатков $r_k$ и линейный поиск шага $\\alpha_k$ вместо аналитического вычисления. Получим метод Флетчера-Ривса.\n",
    "\n",
    "```python\n",
    "def ConjugateGradientFR(f, gradf, x0, eps):\n",
    "    \n",
    "    x = x0\n",
    "    \n",
    "    grad = gradf(x)\n",
    "    \n",
    "    p = -grad\n",
    "    \n",
    "    while np.linalg.norm(gradf(x)) > eps:\n",
    "        \n",
    "        alpha = StepSearch(x, f, gradf, **kwargs)\n",
    "        \n",
    "        x = x + alpha * p\n",
    "        \n",
    "        grad_next = gradf(x)\n",
    "        \n",
    "        beta = grad_next.dot(grad_next) / grad.dot(grad)\n",
    "        \n",
    "        p = -grad_next + beta * p\n",
    "        \n",
    "        grad = grad_next\n",
    "        \n",
    "        if restart_condition:\n",
    "            \n",
    "            p = -gradf(x)\n",
    "            \n",
    "    return x\n",
    "```"
   ]
  },
  {
   "cell_type": "markdown",
   "metadata": {
    "slideshow": {
     "slide_type": "slide"
    }
   },
   "source": [
    "### Теорема сходимости\n",
    "\n",
    "**Теорема.** Пусть \n",
    "- множество уровней $\\mathcal{L}$ ограничено\n",
    "- существует $\\gamma > 0$: $\\| f'(x) \\|_2 \\leq \\gamma$ для $x \\in \\mathcal{L}$\n",
    "Тогда\n",
    "\n",
    "$$\n",
    "\\lim_{j \\to \\infty} \\| f'(x_{k_j}) \\|_2 = 0\n",
    "$$"
   ]
  },
  {
   "cell_type": "markdown",
   "metadata": {
    "slideshow": {
     "slide_type": "slide"
    }
   },
   "source": [
    "### Перезапуск (restart)\n",
    "\n",
    "1. Для ускорения метода сопряжённых градиентов используют технику перезапусков: удаление ранее накопленной истории и перезапуск метода с текущей точки, как будто это точка $x_0$\n",
    "2. Существуют разные условия, сигнализирующие о том, что надо делать перезапуск, например\n",
    "    - $k = n$\n",
    "    - $\\dfrac{|\\langle f'(x_k), f'(x_{k-1}) \\rangle |}{\\| f'(x_k) \\|_2^2} \\geq \\nu \\approx 0.1$\n",
    "3. Можно показать (см. Nocedal, Wright Numerical Optimization, Ch. 5, p. 125), что запуск метода Флетчера-Ривза без использования перезапусков на некоторых итерациях может приводить к крайне медленной сходимости! \n",
    "4. Метод Полака-Рибьера и его модификации лишены подобного недостатка."
   ]
  },
  {
   "cell_type": "markdown",
   "metadata": {
    "slideshow": {
     "slide_type": "slide"
    }
   },
   "source": [
    "### Комментарии\n",
    "- Замечательная методичка \"An Introduction to the Conjugate Gradient Method Without the Agonizing Pain\" размещена [тут](https://www.cs.cmu.edu/~quake-papers/painless-conjugate-gradient.pdf)\n",
    "- Помимо метода Флетчера-Ривса существуют другие способы вычисления $\\beta_k$: метод Полака-Рибьера, метод Хестенса-Штифеля...\n",
    "- Для метода сопряжённых градиентов требуется 4 вектора: каких?\n",
    "- Самой дорогой операцией является умножение матрицы на вектор"
   ]
  },
  {
   "cell_type": "markdown",
   "metadata": {
    "slideshow": {
     "slide_type": "slide"
    }
   },
   "source": [
    "## Эксперименты\n"
   ]
  },
  {
   "cell_type": "markdown",
   "metadata": {
    "slideshow": {
     "slide_type": "slide"
    }
   },
   "source": [
    "### Квадратичная целевая функция"
   ]
  },
  {
   "cell_type": "code",
   "execution_count": 14,
   "metadata": {
    "slideshow": {
     "slide_type": "fragment"
    }
   },
   "outputs": [
    {
     "name": "stdout",
     "output_type": "stream",
     "text": [
      "A is normal matrix: ||AA* - A*A|| = 1.0220943389588388e-09\n"
     ]
    }
   ],
   "source": [
    "import numpy as np\n",
    "n = 100\n",
    "# Random\n",
    "A = np.random.randn(n, n)\n",
    "# A = A.T.dot(A)\n",
    "# Clustered eigenvalues\n",
    "A = np.diagflat([np.ones(n//4), 10 * np.ones(n//4), 100*np.ones(n//4), 1000* np.ones(n//4)])\n",
    "U = np.random.rand(n, n)\n",
    "Q, _ = np.linalg.qr(U)\n",
    "A = Q.dot(A).dot(Q.T)\n",
    "# A = (A + A.T) * 0.5\n",
    "print(\"A is normal matrix: ||AA* - A*A|| =\", np.linalg.norm(A.dot(A.T) - A.T.dot(A)))\n",
    "b = np.random.randn(n)\n",
    "# Hilbert matrix\n",
    "# A = np.array([[1.0 / (i+j - 1) for i in range(1, n+1)] for j in range(1, n+1)]) + 1e-3 * np.eye(n)\n",
    "# b = np.ones(n)\n",
    "\n",
    "f = lambda x: 0.5 * x.dot(A.dot(x)) - b.dot(x)\n",
    "grad_f = lambda x: A.dot(x) - b\n",
    "x0 = np.zeros(n)"
   ]
  },
  {
   "cell_type": "markdown",
   "metadata": {
    "slideshow": {
     "slide_type": "slide"
    }
   },
   "source": [
    "#### Распределение собственных значений"
   ]
  },
  {
   "cell_type": "code",
   "execution_count": 16,
   "metadata": {
    "slideshow": {
     "slide_type": "fragment"
    }
   },
   "outputs": [
    {
     "name": "stdout",
     "output_type": "stream",
     "text": [
      "0.9386931399365748\n",
      "0.9980019980019984\n"
     ]
    },
    {
     "data": {
      "image/png": "[encoded data removed]",
      "text/plain": [
       "<Figure size 432x288 with 1 Axes>"
      ]
     },
     "metadata": {},
     "output_type": "display_data"
    }
   ],
   "source": [
    "%matplotlib inline\n",
    "import matplotlib.pyplot as plt\n",
    "plt.rc(\"text\", usetex=True)\n",
    "plt.rc(\"font\", family='serif')\n",
    "import seaborn as sns\n",
    "sns.set_context(\"talk\")\n",
    "\n",
    "eigs = np.linalg.eigvalsh(A)\n",
    "cond_A = np.linalg.cond(A)\n",
    "print((np.sqrt(cond_A) - 1) / (np.sqrt(cond_A) + 1))\n",
    "print((cond_A - 1) / (cond_A + 1))\n",
    "plt.plot(np.unique(eigs))\n",
    "plt.yscale(\"log\")\n",
    "plt.ylabel(\"Eigenvalues\", fontsize=20)\n",
    "plt.xticks(fontsize=18)\n",
    "_ = plt.yticks(fontsize=18)"
   ]
  },
  {
   "cell_type": "markdown",
   "metadata": {
    "slideshow": {
     "slide_type": "slide"
    }
   },
   "source": [
    "#### Правильный ответ"
   ]
  },
  {
   "cell_type": "code",
   "execution_count": 17,
   "metadata": {
    "slideshow": {
     "slide_type": "fragment"
    }
   },
   "outputs": [],
   "source": [
    "import scipy.optimize as scopt\n",
    "\n",
    "def callback(x, array):\n",
    "    array.append(x)"
   ]
  },
  {
   "cell_type": "code",
   "execution_count": 18,
   "metadata": {
    "slideshow": {
     "slide_type": "fragment"
    }
   },
   "outputs": [
    {
     "name": "stdout",
     "output_type": "stream",
     "text": [
      "||f'(x*)|| = 3.34034761012121e-09\n",
      "f* = -14.419032221915206\n"
     ]
    }
   ],
   "source": [
    "scopt_cg_array = []\n",
    "scopt_cg_callback = lambda x: callback(x, scopt_cg_array)\n",
    "x = scopt.minimize(f, x0, method=\"CG\", jac=grad_f, callback=scopt_cg_callback)\n",
    "x = x.x\n",
    "print(\"||f'(x*)|| =\", np.linalg.norm(A.dot(x) - b))\n",
    "print(\"f* =\", f(x))"
   ]
  },
  {
   "cell_type": "markdown",
   "metadata": {
    "slideshow": {
     "slide_type": "slide"
    }
   },
   "source": [
    "#### Реализация метода сопряжённых градиентов"
   ]
  },
  {
   "cell_type": "code",
   "execution_count": 19,
   "metadata": {
    "slideshow": {
     "slide_type": "fragment"
    }
   },
   "outputs": [],
   "source": [
    "def ConjugateGradientQuadratic(x0, A, b, tol=1e-8, callback=None):\n",
    "    x = x0\n",
    "    r = A.dot(x0) - b\n",
    "    p = -r\n",
    "    while np.linalg.norm(r) > tol:\n",
    "        alpha = r.dot(r) / p.dot(A.dot(p))\n",
    "        x = x + alpha * p\n",
    "        if callback is not None:\n",
    "            callback(x)\n",
    "        r_next = r + alpha * A.dot(p)\n",
    "        beta = r_next.dot(r_next) / r.dot(r)\n",
    "        p = -r_next + beta * p\n",
    "        r = r_next\n",
    "    return x"
   ]
  },
  {
   "cell_type": "code",
   "execution_count": 20,
   "metadata": {
    "slideshow": {
     "slide_type": "slide"
    }
   },
   "outputs": [
    {
     "name": "stdout",
     "output_type": "stream",
     "text": [
      "\t CG quadratic\n",
      "Required tolerance achieved!\n",
      "Convergence in 4 iterations\n",
      "Function value = -14.419032221915568\n",
      "Norm of gradient = 9.779459949986078\n",
      "\t Gradient Descent\n",
      "Maximum iteration exceeds!\n",
      "Convergence in 1000 iterations\n",
      "Function value = -14.402337383573045\n",
      "Norm of gradient = 0.4266825559608324\n",
      "Condition number of A = 1000.0000000003844\n"
     ]
    }
   ],
   "source": [
    "import liboptpy.unconstr_solvers as methods\n",
    "import liboptpy.step_size as ss\n",
    "\n",
    "print(\"\\t CG quadratic\")\n",
    "cg_quad = methods.fo.ConjugateGradientQuad(A, b)\n",
    "x_cg = cg_quad.solve(x0, max_iter=1000, tol=1e-7, disp=True)\n",
    "\n",
    "print(\"\\t Gradient Descent\")\n",
    "gd = methods.fo.GradientDescent(f, grad_f, ss.ExactLineSearch4Quad(A, b))\n",
    "x_gd = gd.solve(x0, tol=1e-7, max_iter=1000, disp=True)\n",
    "\n",
    "print(\"Condition number of A =\", abs(max(eigs)) / abs(min(eigs)))"
   ]
  },
  {
   "cell_type": "markdown",
   "metadata": {
    "slideshow": {
     "slide_type": "slide"
    }
   },
   "source": [
    "#### График сходимости"
   ]
  },
  {
   "cell_type": "code",
   "execution_count": 24,
   "metadata": {
    "slideshow": {
     "slide_type": "fragment"
    }
   },
   "outputs": [
    {
     "data": {
      "image/png": "[encoded data removed]",
      "text/plain": [
       "<Figure size 576x432 with 1 Axes>"
      ]
     },
     "metadata": {},
     "output_type": "display_data"
    }
   ],
   "source": [
    "plt.figure(figsize=(8,6))\n",
    "plt.semilogy([np.linalg.norm(grad_f(x)) for x in cg_quad.get_convergence()], label=r\"$\\|f'(x_k)\\|^{CG}_2$\", linewidth=2)\n",
    "plt.semilogy([np.linalg.norm(grad_f(x)) for x in scopt_cg_array[:5000]], label=r\"$\\|f'(x_k)\\|^{CG_{PR}}_2$\", linewidth=2)\n",
    "# plt.semilogy([np.linalg.norm(grad_f(x)) for x in gd.get_convergence()], label=r\"$\\|f'(x_k)\\|^{G}_2$\", linewidth=2)\n",
    "plt.legend(loc=\"best\", fontsize=20)\n",
    "plt.xlabel(r\"Iteration number, $k$\", fontsize=20)\n",
    "plt.ylabel(\"Convergence rate\", fontsize=20)\n",
    "plt.xticks(fontsize=18)\n",
    "_ = plt.yticks(fontsize=18)"
   ]
  },
  {
   "cell_type": "code",
   "execution_count": 54,
   "metadata": {
    "slideshow": {
     "slide_type": "fragment"
    }
   },
   "outputs": [
    {
     "name": "stdout",
     "output_type": "stream",
     "text": [
      "[8.882504945739075, 8.02312088569592, 7.82823897372081, 8.228469078569972, 8.02794091828915, 8.545475880079737, 7.7073274445122255, 8.169308667231142, 6.900096159518948, 6.028760821833386, 5.462256914177975, 6.1694709106304595, 6.190481019114486, 7.164609359193713, 5.909704031656815, 6.409751673681231, 7.531317394687884, 8.57642043860904, 8.3063409423551, 8.692753863282514, 9.454506536439668, 11.769568749916493, 12.485662898024287, 12.191538956825184, 12.675141878675703, 11.617683919711972, 10.650472932605874, 12.046746330921751, 11.105597065370535, 9.836420813032703, 10.010939150132543, 10.88325108133763, 8.666008880474333, 7.699269654011459, 6.355503224223968, 5.90443784272244, 6.221287818412301, 8.195589286785, 7.299096585496559, 6.161077145583338, 7.349147178576559, 6.6893396705637445, 8.40946426152716, 9.748632525353658, 7.796774493958513, 6.846679708578971, 7.208869249348138, 8.344352174763728, 6.719521167979252, 7.553812333612303, 7.295050517200499, 7.255100360639423, 9.10176817826305, 7.564137691646654, 5.574934220751499, 5.0689605056064675, 6.64803360144127, 9.082991847266362, 8.91874045104218, 7.630214445117524, 7.875437833929472, 8.077348635654587, 6.878495923978833, 8.618381403241512, 8.60676294144403, 9.383106492261556, 11.630888877902407, 10.156110363881771, 7.934608295859058, 9.757445983633852, 9.892228941626778, 16.3990317468293, 13.203312252399416, 16.354109068634433, 10.969604623502992, 7.310309983285203, 8.708753249309645, 5.898285732655631, 7.526246807448508, 6.965704898283933, 7.462581571583673, 7.805960221274653, 8.508286459164133, 6.782791617211194, 9.525918981013422, 9.27258932893244, 6.619343831847434, 6.672880385414406, 13.518695334560144, 7.464056244223318, 11.202629039874763, 6.673582480342727, 10.237190398363426, 10.120525319769705, 18.497999554411077, 10.063524026467377, 8.346018612682675, 13.380868050911541, 14.459140976373078, 10.989041043239876, 11.977437925472458, 22.957132321437662, 18.799585215865093, 13.586212572471215, 14.537247509391333, 19.896420997927063, 18.289144794815655, 22.450938275591362, 16.67984956082469, 19.22436706248422, 24.836134745948023, 43.179657919843265, 17.705104807295076, 25.979472552345317, 12.030392663393808, 19.010168855008587, 8.343901894881581, 13.500132216144808, 10.669010006533966, 21.47652108829665, 10.198236869744527, 19.613641749092963, 17.790400875541483, 4.331643129820227, 7.315848711992672, 6.248687509536643, 2.25535701628628, 3.141518264745747, 7.709087249053964, 6.757352443310114, 5.673560225589232, 10.771835819830274, 27.363273351822432, 15.776334053216077, 18.93722967717437, 16.513403275439256, 4.049925728451657, 1.2925323891380547, 0.47386622432041325, 1.584786386721307, 1.6450410867080851, 0.4030636557301404, 0.0599062767817567, 0.08432480446857377, 0.13553825271819156, 0.031917734280972714, 0.010084511770498688, 0.0023004401221770193, 0.00038032197499700027, 0.00015523267357007485, 2.450675882919022e-05, 3.2669330587524425e-06, 9.692125396835116e-07, 3.6674131353981623e-07, 2.08191209877252e-07, 7.511506632641239e-08]\n"
     ]
    }
   ],
   "source": [
    "print([np.linalg.norm(grad_f(x)) for x in cg_quad.get_convergence()])"
   ]
  },
  {
   "cell_type": "code",
   "execution_count": 26,
   "metadata": {
    "slideshow": {
     "slide_type": "slide"
    }
   },
   "outputs": [
    {
     "data": {
      "image/png": "[encoded data removed]",
      "text/plain": [
       "<Figure size 576x432 with 1 Axes>"
      ]
     },
     "metadata": {},
     "output_type": "display_data"
    }
   ],
   "source": [
    "plt.figure(figsize=(8,6))\n",
    "plt.plot([f(x) for x in cg_quad.get_convergence()], label=r\"$f(x^{CG}_k)$\", linewidth=2)\n",
    "plt.plot([f(x) for x in scopt_cg_array], label=r\"$f(x^{CG_{PR}}_k)$\", linewidth=2)\n",
    "# plt.plot([f(x) for x in gd.get_convergence()], label=r\"$f(x^{G}_k)$\", linewidth=2)\n",
    "plt.legend(loc=\"best\", fontsize=20)\n",
    "plt.xlabel(r\"Iteration number, $k$\", fontsize=20)\n",
    "plt.ylabel(\"Function value\", fontsize=20)\n",
    "plt.xticks(fontsize=18)\n",
    "_ = plt.yticks(fontsize=18)"
   ]
  },
  {
   "cell_type": "markdown",
   "metadata": {
    "slideshow": {
     "slide_type": "slide"
    }
   },
   "source": [
    "### Неквадратичная функция"
   ]
  },
  {
   "cell_type": "code",
   "execution_count": 29,
   "metadata": {
    "slideshow": {
     "slide_type": "fragment"
    }
   },
   "outputs": [
    {
     "name": "stdout",
     "output_type": "stream",
     "text": [
      "Initial function value = 0.6931471805599454\n",
      "Initial gradient norm = 4.156997198803339\n"
     ]
    }
   ],
   "source": [
    "import numpy as np\n",
    "import sklearn.datasets as skldata\n",
    "import scipy.special as scspec\n",
    "\n",
    "n = 300\n",
    "m = 1000\n",
    "\n",
    "X, y = skldata.make_classification(n_classes=2, n_features=n, n_samples=m, n_informative=n//3)\n",
    "C = 1\n",
    "def f(w):\n",
    "    return np.linalg.norm(w)**2 / 2 +  C * np.mean(np.logaddexp(np.zeros(X.shape[0]), -y * X.dot(w)))\n",
    "\n",
    "def grad_f(w):\n",
    "    denom = scspec.expit(-y * X.dot(w))\n",
    "    return w - C * X.T.dot(y * denom) / X.shape[0]\n",
    "# f = lambda x: -np.sum(np.log(1 - A.T.dot(x))) - np.sum(np.log(1 - x*x))\n",
    "# grad_f = lambda x: np.sum(A.dot(np.diagflat(1 / (1 - A.T.dot(x)))), axis=1) + 2 * x / (1 - np.power(x, 2))\n",
    "x0 = np.zeros(n)\n",
    "print(\"Initial function value = {}\".format(f(x0)))\n",
    "print(\"Initial gradient norm = {}\".format(np.linalg.norm(grad_f(x0))))"
   ]
  },
  {
   "cell_type": "markdown",
   "metadata": {
    "slideshow": {
     "slide_type": "slide"
    }
   },
   "source": [
    "#### Реализация метода Флетчера-Ривса"
   ]
  },
  {
   "cell_type": "code",
   "execution_count": 30,
   "metadata": {
    "slideshow": {
     "slide_type": "fragment"
    }
   },
   "outputs": [],
   "source": [
    "def ConjugateGradientFR(f, gradf, x0, num_iter=100, tol=1e-8, callback=None, restart=False):\n",
    "    x = x0\n",
    "    grad = gradf(x)\n",
    "    p = -grad\n",
    "    it = 0\n",
    "    while np.linalg.norm(gradf(x)) > tol and it < num_iter:\n",
    "        alpha = utils.backtracking(x, p, method=\"Wolfe\", beta1=0.1, beta2=0.4, rho=0.5, f=f, grad_f=gradf)\n",
    "        if alpha < 1e-18:\n",
    "            break\n",
    "        x = x + alpha * p\n",
    "        if callback is not None:\n",
    "            callback(x)\n",
    "        grad_next = gradf(x)\n",
    "        beta = grad_next.dot(grad_next) / grad.dot(grad)\n",
    "        p = -grad_next + beta * p\n",
    "        grad = grad_next.copy()\n",
    "        it += 1\n",
    "        if restart and it % restart == 0:\n",
    "            grad = gradf(x)\n",
    "            p = -grad\n",
    "    return x"
   ]
  },
  {
   "cell_type": "markdown",
   "metadata": {
    "slideshow": {
     "slide_type": "slide"
    }
   },
   "source": [
    "#### График сходимости"
   ]
  },
  {
   "cell_type": "code",
   "execution_count": 39,
   "metadata": {
    "scrolled": true,
    "slideshow": {
     "slide_type": "fragment"
    }
   },
   "outputs": [
    {
     "name": "stdout",
     "output_type": "stream",
     "text": [
      "\t CG by Polak-Rebiere\n",
      "Norm of garient = 2.4532626802279288e-05\n",
      "Function value = 0.4720284942239547\n",
      "\t CG by Fletcher-Reeves\n",
      "Required tolerance achieved!\n",
      "Convergence in 53 iterations\n",
      "Function value = 0.47202849409888453\n",
      "Norm of gradient = 5.63942158656735e-06\n",
      "\t CG by Fletcher-Reeves with restart n\n",
      "Required tolerance achieved!\n",
      "Convergence in 58 iterations\n",
      "Function value = 0.4720284940964614\n",
      "Norm of gradient = 8.113442826065547e-06\n",
      "\t Gradient Descent\n",
      "Required tolerance achieved!\n",
      "Convergence in 141 iterations\n",
      "Function value = 0.47202849411942027\n",
      "Norm of gradient = 9.331334089441083e-06\n"
     ]
    }
   ],
   "source": [
    "import scipy.optimize as scopt\n",
    "import liboptpy.restarts as restarts\n",
    "\n",
    "n_restart = 30\n",
    "tol = 1e-5\n",
    "max_iter = 600\n",
    "\n",
    "scopt_cg_array = []\n",
    "scopt_cg_callback = lambda x: callback(x, scopt_cg_array)\n",
    "x = scopt.minimize(f, x0, tol=tol, method=\"CG\", jac=grad_f, callback=scopt_cg_callback, options={\"maxiter\": max_iter})\n",
    "x = x.x\n",
    "print(\"\\t CG by Polak-Rebiere\")\n",
    "print(\"Norm of garient = {}\".format(np.linalg.norm(grad_f(x))))\n",
    "print(\"Function value = {}\".format(f(x)))\n",
    "\n",
    "print(\"\\t CG by Fletcher-Reeves\")\n",
    "cg_fr = methods.fo.ConjugateGradientFR(f, grad_f, ss.Backtracking(\"Wolfe\", rho=0.9, beta1=0.1, beta2=0.4, init_alpha=1.))\n",
    "x = cg_fr.solve(x0, tol=tol, max_iter=max_iter, disp=True)\n",
    "\n",
    "print(\"\\t CG by Fletcher-Reeves with restart n\")\n",
    "cg_fr_rest = methods.fo.ConjugateGradientFR(f, grad_f, ss.Backtracking(\"Wolfe\", rho=0.9, beta1=0.1, beta2=0.4, \n",
    "                                         init_alpha=1.), restarts.Restart(n // n_restart))\n",
    "x = cg_fr_rest.solve(x0, tol=tol, max_iter=max_iter, disp=True)\n",
    "\n",
    "print(\"\\t Gradient Descent\")\n",
    "gd = methods.fo.GradientDescent(f, grad_f, ss.Backtracking(\"Wolfe\", rho=0.5, beta1=0.1, beta2=0.4, init_alpha=1.))\n",
    "x = gd.solve(x0, max_iter=max_iter, tol=tol, disp=True)"
   ]
  },
  {
   "cell_type": "code",
   "execution_count": 40,
   "metadata": {
    "slideshow": {
     "slide_type": "fragment"
    }
   },
   "outputs": [
    {
     "data": {
      "image/png": "[encoded data removed]",
      "text/plain": [
       "<Figure size 576x432 with 1 Axes>"
      ]
     },
     "metadata": {},
     "output_type": "display_data"
    }
   ],
   "source": [
    "plt.figure(figsize=(8, 6))\n",
    "plt.semilogy([np.linalg.norm(grad_f(x)) for x in cg_fr.get_convergence()], label=r\"$\\|f'(x_k)\\|^{CG_{FR}}_2$ no restart\", linewidth=2)\n",
    "plt.semilogy([np.linalg.norm(grad_f(x)) for x in cg_fr_rest.get_convergence()], label=r\"$\\|f'(x_k)\\|^{CG_{FR}}_2$ restart\", linewidth=2)\n",
    "plt.semilogy([np.linalg.norm(grad_f(x)) for x in scopt_cg_array], label=r\"$\\|f'(x_k)\\|^{CG_{PR}}_2$\", linewidth=2)\n",
    "\n",
    "plt.semilogy([np.linalg.norm(grad_f(x)) for x in gd.get_convergence()], label=r\"$\\|f'(x_k)\\|^{G}_2$\", linewidth=2)\n",
    "plt.legend(loc=\"best\", fontsize=16)\n",
    "plt.xlabel(r\"Iteration number, $k$\", fontsize=20)\n",
    "plt.ylabel(\"Convergence rate\", fontsize=20)\n",
    "plt.xticks(fontsize=18)\n",
    "_ = plt.yticks(fontsize=18)"
   ]
  },
  {
   "cell_type": "markdown",
   "metadata": {
    "slideshow": {
     "slide_type": "slide"
    }
   },
   "source": [
    "#### Время выполнения"
   ]
  },
  {
   "cell_type": "code",
   "execution_count": 41,
   "metadata": {
    "slideshow": {
     "slide_type": "fragment"
    }
   },
   "outputs": [
    {
     "name": "stdout",
     "output_type": "stream",
     "text": [
      "20.9 ms ± 1.15 ms per loop (mean ± std. dev. of 7 runs, 10 loops each)\n",
      "88.3 ms ± 1.64 ms per loop (mean ± std. dev. of 7 runs, 10 loops each)\n",
      "98.2 ms ± 1.59 ms per loop (mean ± std. dev. of 7 runs, 10 loops each)\n",
      "254 ms ± 8.02 ms per loop (mean ± std. dev. of 7 runs, 1 loop each)\n"
     ]
    }
   ],
   "source": [
    "%timeit scopt.minimize(f, x0, method=\"CG\", tol=tol, jac=grad_f, options={\"maxiter\": max_iter})\n",
    "%timeit cg_fr.solve(x0, tol=tol, max_iter=max_iter)\n",
    "%timeit cg_fr_rest.solve(x0, tol=tol, max_iter=max_iter)\n",
    "%timeit gd.solve(x0, tol=tol, max_iter=max_iter)"
   ]
  },
  {
   "cell_type": "markdown",
   "metadata": {
    "slideshow": {
     "slide_type": "slide"
    }
   },
   "source": [
    "## Резюме\n",
    "\n",
    "1. Сопряжённые направления\n",
    "2. Метод сопряжённых градиентов\n",
    "3. Сходимость\n",
    "4. Эксперименты"
   ]
  }
 ],
 "metadata": {
  "anaconda-cloud": {},
  "celltoolbar": "Slideshow",
  "kernelspec": {
   "display_name": "Python 3 (cvxpy)",
   "language": "python",
   "name": "cvxpy"
  },
  "language_info": {
   "codemirror_mode": {
    "name": "ipython",
    "version": 3
   },
   "file_extension": ".py",
   "mimetype": "text/x-python",
   "name": "python",
   "nbconvert_exporter": "python",
   "pygments_lexer": "ipython3",
   "version": "3.6.8"
  }
 },
 "nbformat": 4,
 "nbformat_minor": 1
}
