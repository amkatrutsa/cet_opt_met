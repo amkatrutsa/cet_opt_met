{
 "cells": [
  {
   "cell_type": "markdown",
   "metadata": {
    "nbpresent": {
     "id": "196b8a50-3d29-45c3-82b9-f4a09b49491d"
    },
    "slideshow": {
     "slide_type": "slide"
    }
   },
   "source": [
    "# Тема 1\n",
    "\n",
    "# Введение\n",
    "\n",
    " 1. Обзор материала семестра\n",
    " 2. Общие постановки задач оптимизации\n",
    " 3. Примеры реальных задач\n",
    " 4. Общая схема решения\n",
    " 5. Сравнение методов оптимизации"
   ]
  },
  {
   "cell_type": "markdown",
   "metadata": {
    "nbpresent": {
     "id": "2a573842-172b-4931-b0dd-9c9d3c47a450"
    },
    "slideshow": {
     "slide_type": "slide"
    }
   },
   "source": [
    "## Обзор материала весеннего семестра\n",
    "\n",
    "1. Введение и примеры задач\n",
    "2. Методы нулевого порядка\n",
    "3. Теория выпуклой оптимизации\n",
    "4. Методы первого порядка\n",
    "5. Метод Ньютона и квазиньютоновские методы\n",
    "6. Условная оптимизация с простыми ограничениями\n",
    "7. Методы внутренней точки\n",
    "8. Введение в теорию оптимального управления"
   ]
  },
  {
   "cell_type": "markdown",
   "metadata": {
    "slideshow": {
     "slide_type": "slide"
    }
   },
   "source": [
    "## Организация работы в семестре\n",
    "\n",
    "1. Две пары раз в неделю\n",
    "2. Домашнее задание почти каждую неделю: $\\TeX$ или Jupyter Notebook\n",
    "3. Миниконтрольные в начале каждого занятия\n",
    "4. Промежуточная контрольная в середине семестра\n",
    "5. Устный зачёт в конце семестра\n",
    "6. Накопительная система выставления финальной оценки"
   ]
  },
  {
   "cell_type": "markdown",
   "metadata": {
    "slideshow": {
     "slide_type": "slide"
    }
   },
   "source": [
    "## Инструменты и литература\n",
    "\n",
    "Инструменты:\n",
    "\n",
    "- $\\TeX$\n",
    "- Python 3, CVXPy & Jupyter Notebook\n",
    "- Matlab (иногда)\n",
    "\n",
    "Литература:\n",
    "\n",
    "- [Введение в оптимизацию, Б.Т. Поляк](http://elementy.ru/catalog/3461/Polyak_B_T_Vvedenie_v_optimizatsiyu_DjVu_6_Mb_premolab_ru_sites_default_files_polyak_optimizationintro_djvu)\n",
    "- [Методы выпуклой оптитмизации, Ю. Е. Нестеров](http://premolab.ru/pub_files/pub5/MnexoB89z7.pdf)\n",
    "- [Convex Optimization by S. Boyd & L. Vandenberghe](https://web.stanford.edu/~boyd/cvxbook/bv_cvxbook.pdf)\n",
    "- [Numerical Optimization by J. Nocedal & S. Wright](http://www.深度学习.top/literature/Nocedal_Wright_Numerical_optimization_v2.pdf)\n",
    "- [Clever algorithms: nature-inspired programming recipes by J. Brownlee](https://doc.lagout.org/science/0_Computer%20Science/2_Algorithms/Clever%20Algorithms_%20Nature-Inspired%20Programming%20Recipes%20%5BBrownlee%202012-06-15%5D.pdf)"
   ]
  },
  {
   "cell_type": "markdown",
   "metadata": {
    "slideshow": {
     "slide_type": "slide"
    }
   },
   "source": [
    "## Методология\n",
    "\n",
    "Основные этапы использования методов оптимизации при решении \n",
    "\n",
    "реальных задач:\n",
    "1. Определение целевой функции\n",
    "2. Определение допустимого множества решений\n",
    "3. Постановка и анализ оптимизационной задачи\n",
    "4. Выбор наилучшего алгоритма для решения поставленной задачи\n",
    "5. Реализация алгоритма и проверка его корректности"
   ]
  },
  {
   "cell_type": "markdown",
   "metadata": {
    "slideshow": {
     "slide_type": "slide"
    }
   },
   "source": [
    "## Постановка задачи\n",
    "\n",
    "\\begin{align*}\n",
    "& \\min_{x \\in S} f_0(x)\\\\\n",
    "\\text{s.t. } & f_j(x) = 0, \\; j = 1,\\ldots,m\\\\\n",
    "& g_k(x) \\leq 0, \\; k = 1,\\ldots,p\n",
    "\\end{align*}\n",
    "где $S \\subseteq \\mathbb{R}^n$, $f_j: S \\rightarrow \\mathbb{R}, \\; j = 0,\\ldots,m$, $g_k: S \\rightarrow \\mathbb{R}, \\; k=1,\\ldots,p$\n",
    "\n",
    "Пример: выбор объектов для вложения денег и \n",
    "\n",
    "определение в какой объект сколько вкладывать\n",
    "\n",
    "- $x$ — размер инвестиций в каждый актив\n",
    "- $f_0$ — суммарный риск или вариация прибыли\n",
    "- $f_j, g_k$ — бюджетные ограничения, min/max вложения в актив, минимально допустимая прибыль"
   ]
  },
  {
   "cell_type": "markdown",
   "metadata": {
    "slideshow": {
     "slide_type": "slide"
    }
   },
   "source": [
    "## Основные определения\n",
    "\n",
    "1. Точка $x^*$ называется точкой **локального минимума** функции $f(x)$, если для некоторого $\\varepsilon > 0$ выполнено $f(x^*) < f(y), y \\in O_{\\varepsilon}(x^*)$\n",
    "2. Дайте аналогично определение глобальному минимуму\n",
    "\n",
    "Везде далее рассматривается задача поиска локального минимума, если не оговорено обратное."
   ]
  },
  {
   "cell_type": "markdown",
   "metadata": {
    "slideshow": {
     "slide_type": "slide"
    }
   },
   "source": [
    "### Важные частные случаи\n",
    "\n",
    "- Оптимизация на дискретном множестве (1-2 недели)\n",
    "- Безусловная оптимизация\n",
    "- Условная оптимизация с простыми ограничениями\n",
    "- Условная оптимизация общего вида"
   ]
  },
  {
   "cell_type": "markdown",
   "metadata": {
    "slideshow": {
     "slide_type": "slide"
    }
   },
   "source": [
    "## Нельзя так просто взять и решить задачу оптимизации\n",
    "\n",
    "В общем случае: \n",
    "- NP-полные\n",
    "- рандомизированные алгоритмы: время vs стабильность \n",
    "        \n",
    "НО определённые классы задач могут быть решены быстро!\n",
    "- Линейное программирование\n",
    "- Метод наименьших квадратов \n",
    "- Малоранговое приближение порядка $k$ \n",
    "- **Выпуклая оптимизация**"
   ]
  },
  {
   "cell_type": "markdown",
   "metadata": {
    "slideshow": {
     "slide_type": "slide"
    }
   },
   "source": [
    "## Задача выпуклой оптимизации\n",
    "\n",
    "- Минимизация выпуклой функции на выпуклом множестве\n",
    "- Формально\n",
    "\\begin{align*}\n",
    "& \\min_{x \\in \\mathbb{R}^n} f_0(x) \\\\\n",
    "\\text{s.t. } & Ax = b\\\\\n",
    "& f_j(x) \\leq 0, \\; j = 1,\\ldots, m,\n",
    "\\end{align*}\n",
    "где $f_0$ и $f_j$ выпуклые функции\n",
    "- Функция называется выпуклой, если она определена на выпуклом множестве и отрезок, соединяющий любые две точки графика, расположен выше самого графика\n",
    "- Упражнение: запишите это определение формально"
   ]
  },
  {
   "cell_type": "markdown",
   "metadata": {
    "slideshow": {
     "slide_type": "slide"
    }
   },
   "source": [
    "### \"The great watershed in optimization is not between linearity and non-linearity, but convexity and non-convexity\"\n",
    "\n",
    "Причины:\n",
    "- Локальный оптимум является глобальным\n",
    "- Необходимое условие оптимальности является достаточным\n",
    "\n",
    "Вопросы:\n",
    "- Любую ли задачу выпуклой оптимизации можно эффективно решить?\n",
    "- Можно ли эффективно решить невыпуклые задачи оптимизации?"
   ]
  },
  {
   "cell_type": "markdown",
   "metadata": {
    "slideshow": {
     "slide_type": "slide"
    }
   },
   "source": [
    "## Примеры реальных задач и их формализация\n",
    "\n",
    "- Аппроксимация функции по известным точкам (см. лабораторные работы по физике)\n",
    "- Поиск круга (или эллипса) минимальной площади, покрывающего заданные точки\n",
    "- Определение пространственной конфигурации аминокислот для минимизации общей энергии белка\n",
    "- Сглаживание и очистка от шума заданного сигнала или изображения"
   ]
  },
  {
   "cell_type": "markdown",
   "metadata": {
    "slideshow": {
     "slide_type": "slide"
    }
   },
   "source": [
    "## Аналитические результаты для дифференцируемых функций: анонс\n",
    "- Необходимое условие первого порядка: если $x^*$ точка локального минимума дифференцируемой функции $f(x)$, тогда $$\n",
    "f'(x^*) = 0\n",
    "$$\n",
    "- Необходимое условие второго порядка: если $x^*$ точка локального минимума дважды дифференцируемой функции $f(x)$, тогда \n",
    "$$\n",
    "f'(x^*) = 0 \\quad \\text{и} \\quad f''(x^*) \\succeq 0\n",
    "$$\n",
    "- Достаточное условие: пусть $f(x)$ дважды дифференцируемая функция, и пусть точка $x^*$ удовлетворяет условиям\n",
    "$$\n",
    "f'(x^*) = 0 \\quad f''(x^*) \\succ 0,\n",
    "$$\n",
    "тогда $x^*$ является точкой строго локального минимума функции $f(x)$."
   ]
  },
  {
   "cell_type": "markdown",
   "metadata": {
    "slideshow": {
     "slide_type": "slide"
    }
   },
   "source": [
    "## Особенности численного решения\n",
    "\n",
    "1. Точно решить задачу принципиально невозможно из-за погрешности машинной арифметики\n",
    "2. Необходимо задать критерий обнаружения решения\n",
    "3. Необходимо определить, какую информацию о задаче использовать"
   ]
  },
  {
   "cell_type": "markdown",
   "metadata": {
    "slideshow": {
     "slide_type": "slide"
    }
   },
   "source": [
    "## Общая итеративная схема\n",
    "\n",
    "Дано: начальное приближение $x$, требуемая точность $\\varepsilon$.\n",
    "\n",
    "```python\n",
    "def GeneralScheme(x, epsilon):\n",
    "    \n",
    "    while StopCriterion(x) > epsilon:\n",
    "        \n",
    "        OracleResponse = RequestOracle(x)\n",
    "        \n",
    "        UpdateInformation(I, x, OracleResponse)\n",
    "        \n",
    "        x = NextPoint(I, x)\n",
    "        \n",
    "    return x\n",
    "```"
   ]
  },
  {
   "cell_type": "markdown",
   "metadata": {
    "slideshow": {
     "slide_type": "slide"
    }
   },
   "source": [
    "### Вопросы\n",
    "1. Какие критерии остановки могут быть?\n",
    "2. Что такое оракул и зачем он нужен?\n",
    "3. Что такое информационная модель?\n",
    "4. Как вычисляется новая точка?"
   ]
  },
  {
   "cell_type": "markdown",
   "metadata": {
    "slideshow": {
     "slide_type": "slide"
    }
   },
   "source": [
    "#### Критерии остановки\n",
    "1. Сходимость по аргументу: \n",
    "$$\n",
    "\\| x_k - x^*  \\|_2 < \\varepsilon\n",
    "$$ \n",
    "2. Сходимость по функционалу: \n",
    "$$\n",
    "\\| f_k - f^* \\|_2 < \\varepsilon\n",
    "$$ \n",
    "3. Выполнение необходимого условия для дифференцируемой функции \n",
    "$$\n",
    "\\| f'(x_k) \\|_2 < \\varepsilon\n",
    "$$\n",
    "\n",
    "Но ведь $x^*$ неизвестна!\n",
    "\n",
    "Тогда\n",
    "\\begin{align*}\n",
    "& \\|x_{k+1} - x_k \\| = \\|x_{k+1} - x_k + x^* - x^* \\| \\\\\n",
    "& \\leq \\|x_{k+1} - x^* \\| + \\| x_k - x^* \\| \\leq 2\\varepsilon\n",
    "\\end{align*}\n",
    "\n",
    "**Замечание**: лучше использовать относительные изменения этих величин! Например $\\dfrac{\\|x_{k+1} - x_k \\|_2}{\\| x_k \\|_2}$\n"
   ]
  },
  {
   "cell_type": "markdown",
   "metadata": {
    "slideshow": {
     "slide_type": "slide"
    }
   },
   "source": [
    "#### Что такое оракул?\n",
    "**Определение**: оракулом называют некоторое абстрактное \n",
    "\n",
    "устройство,\n",
    "которое отвечает на последовательные вопросы \n",
    "\n",
    "метода\n",
    "\n",
    "**Концепция чёрного ящика**\n",
    "1. Единственной информацией, получаемой в ходе работы итеративного метода, являются ответы оракула\n",
    "2. Ответы оракула являются *локальными*"
   ]
  },
  {
   "cell_type": "markdown",
   "metadata": {
    "slideshow": {
     "slide_type": "slide"
    }
   },
   "source": [
    "#### Информация о задаче\n",
    "1. Каждый ответ оракула даёт локальную информацию о поведении функции в точке\n",
    "2. Агрегируя все полученные ответы оракула, обновляем информацию о глобальном виде целевой функции:\n",
    "    - кривизна\n",
    "    - направление убывания\n",
    "    - etc"
   ]
  },
  {
   "cell_type": "markdown",
   "metadata": {
    "slideshow": {
     "slide_type": "slide"
    }
   },
   "source": [
    "#### Вычисление следующей точки\n",
    "\n",
    "$$\n",
    "x_{k+1} = x_{k} + \\alpha_k h_k\n",
    "$$\n",
    "\n",
    "- **Линейный поиск**: фиксируется направление $h_k$ и производится поиск по этому направлению \"оптимального\" значения  $\\alpha_k$\n",
    "- **Метод доверительных областей**: \n",
    "    - фиксируется допустимый размер *области* по некоторой норме $\\| \\cdot  \\| \\leq \\alpha$ и *модель* целевой функции, которая хорошо её аппроксимирует в выбранной области. \n",
    "    - далее производится поиск направления $h_k$, минимизирующего модель целевой функции и не выводящего точку $x_k + h_k$ за пределы доверительной области\n",
    "\n",
    "Вопросы:\n",
    "1. Как выбрать $\\alpha_k$?\n",
    "2. Как выбрать $h_k$?\n",
    "3. Как выбрать модель?\n",
    "4. Как выбрать область?\n",
    "5. Как выбрать размер области? "
   ]
  },
  {
   "cell_type": "markdown",
   "metadata": {
    "slideshow": {
     "slide_type": "slide"
    }
   },
   "source": [
    "## Как сравнивать методы оптимизации?\n",
    "Для заданного класса задач сравнивают следующие величины:\n",
    "1. Сложность\n",
    "    - аналитическая: число обращений к оракулу для решения задачи с точностью $\\varepsilon$\n",
    "    - арифметическая: общее число всех вычислений, необходимых для решения задачи с точностью $\\varepsilon$\n",
    "2. Скорость сходимости\n",
    "3. Эксперименты"
   ]
  },
  {
   "cell_type": "markdown",
   "metadata": {
    "slideshow": {
     "slide_type": "slide"
    }
   },
   "source": [
    "### Скорости сходимости \n",
    "1. Сублинейная\n",
    "$$\n",
    "\\| x_{k+1} - x^* \\|_2 \\leq C k^{\\alpha},\n",
    "$$\n",
    "где $\\alpha < 0$ и $ 0 < C < \\infty$\n",
    "2. Линейная (геометрическая прогрессия)\n",
    "$$\n",
    "\\| x_{k+1} - x^* \\|_2 \\leq Cq^k, \n",
    "$$\n",
    "где $q \\in (0, 1)$ и $ 0 < C < \\infty$\n",
    "\n",
    "3. Сверхлинейная \n",
    "$$\n",
    "\\| x_{k+1} - x^* \\|_2 \\leq Cq^{k^2}, \n",
    "$$\n",
    "где $q \\in (0, 1)$ и $ 0 < C < \\infty$\n",
    "4. Квадратичная\n",
    "$$\n",
    "\\| x_{k+1} - x^* \\|_2 \\leq C\\| x_k - x^* \\|^2_2, \\qquad \\text{или} \\qquad \\| x_{k+1} - x^* \\|_2 \\leq C q^{2^k}\n",
    "$$\n",
    "где $q \\in (0, 1)$ и $ 0 < C < \\infty$"
   ]
  },
  {
   "cell_type": "markdown",
   "metadata": {
    "slideshow": {
     "slide_type": "slide"
    }
   },
   "source": [
    "### Оптимальные методы: can we do better?\n",
    "- Доказывают нижние оценки скоростей сходимости для класса задач и методов фиксированного порядка\n",
    "- Предлагают методы, на которых эти нижние оценки достигаются $\\Rightarrow$ доказана оптимальность \n",
    "- Ниже про значение теорем сходимости\n",
    "\n",
    "Оптимальным методам и нижним оценкам будет, возможно, посвящён отдельный семинар."
   ]
  },
  {
   "cell_type": "code",
   "execution_count": 1,
   "metadata": {
    "slideshow": {
     "slide_type": "slide"
    }
   },
   "outputs": [
    {
     "data": {
      "image/png": "[encoded data removed]",
      "text/plain": [
       "<matplotlib.figure.Figure at 0x7fe294041978>"
      ]
     },
     "metadata": {},
     "output_type": "display_data"
    }
   ],
   "source": [
    "%matplotlib inline\n",
    "import matplotlib.pyplot as plt\n",
    "import numpy as np\n",
    "C = 10\n",
    "alpha = -0.5\n",
    "q = 0.9\n",
    "num_iter = 7\n",
    "sublinear = np.array([C * k**alpha for k in range(1, num_iter + 1)])\n",
    "linear = np.array([C * q**k for k in range(1, num_iter + 1)])\n",
    "superlinear = np.array([C * q**(k**2) for k in range(1, num_iter + 1)])\n",
    "quadratic = np.array([C * q**(2**k) for k in range(1, num_iter + 1)])\n",
    "plt.figure(figsize=(12,8))\n",
    "plt.semilogy(np.arange(1, num_iter+1), sublinear, \n",
    "             label=r\"Sublinear, $\\alpha = -0.5$\")\n",
    "plt.semilogy(np.arange(1, num_iter+1), superlinear, \n",
    "             label=r\"Superlinear, $q = 0.5$\")\n",
    "plt.semilogy(np.arange(1, num_iter+1), linear, \n",
    "             label=r\"Linear, $q = 0.5$\")\n",
    "plt.semilogy(np.arange(1, num_iter+1), quadratic, \n",
    "             label=r\"Quadratic, $q = 0.5$\")\n",
    "plt.xlabel(\"Number of iteration, $k$\", fontsize=24)\n",
    "plt.ylabel(\"Error rate upper bound\", fontsize=24)\n",
    "plt.legend(loc=\"best\", fontsize=20)\n",
    "plt.xticks(fontsize = 20)\n",
    "_ = plt.yticks(fontsize = 20)"
   ]
  },
  {
   "cell_type": "markdown",
   "metadata": {
    "slideshow": {
     "slide_type": "slide"
    }
   },
   "source": [
    "### Значение теорем сходимости (Б.Т. Поляк Введение в оптимизацию, гл. 1, $\\S$ 6)\n",
    "1. Что дают теоремы сходимости\n",
    "     - класс задач, для которых можно рассчитывать на применимость метода (важно не завышать условия!)\n",
    "         - выпуклость\n",
    "         - гладкость\n",
    "     - качественное поведение метода\n",
    "         - существенно ли начальное приближение\n",
    "         - по какому функционалу есть сходимость\n",
    "     - оценку скорости сходимости\n",
    "         - теоретическая оценка поведения метода без проведения экспериментов\n",
    "         - определение факторов, которые влияют на сходимость (обусловленность, размерность, etc)\n",
    "         - иногда заранее можно выбрать число итераций для достижения заданной точности \n",
    "\n",
    "2. Что **НЕ** дают теоремы сходимости\n",
    "    - сходимость метода **ничего не говорит** о целесообразности его применения\n",
    "    - оценки сходимости зависят от неизвестных констант - неконструктивный характер\n",
    "    - учёт ошибок округления и точности решения вспомогательных задач\n",
    "    \n",
    "**Мораль**: нужно проявлять разумную осторожность и здравый смысл!"
   ]
  },
  {
   "cell_type": "markdown",
   "metadata": {
    "slideshow": {
     "slide_type": "slide"
    }
   },
   "source": [
    "## Классификация методов\n",
    "\n",
    "Требование к оракулу\n",
    "\n",
    "1. Методы нулевого порядка: оракул возвращает только значение функции $f(x)$\n",
    "\n",
    "2. Методы первого порядка: оракул возвращает значение функции $f(x)$ и её градиент $f'(x)$\n",
    "\n",
    "3. Методы второго порядка: оракул возвращает значение функции $f(x)$, её градиент $f'(x)$ и гессиан $f''(x)$.\n",
    "\n",
    "Требование доступа к истории для поиска следующей точки\n",
    "1. Одношаговые методы \n",
    "$$\n",
    "x_{k+1} = \\Phi(x_k)\n",
    "$$\n",
    "2. Многошаговые методы\n",
    "$$\n",
    "x_{k+1} = \\Phi(x_k, x_{k-1}, ...)\n",
    "$$"
   ]
  },
  {
   "cell_type": "markdown",
   "metadata": {
    "slideshow": {
     "slide_type": "slide"
    }
   },
   "source": [
    "## Резюме\n",
    "\n",
    "1. Введение в предмет Методы оптимизации\n",
    "2. Общая схема работы метода оптимизации\n",
    "3. Способы сравнивнения методов оптимизации\n",
    "4. Зоопарк задач и методов"
   ]
  }
 ],
 "metadata": {
  "anaconda-cloud": {},
  "celltoolbar": "Slideshow",
  "kernelspec": {
   "display_name": "Python (cvxpy)",
   "language": "python",
   "name": "cvxpy"
  },
  "language_info": {
   "codemirror_mode": {
    "name": "ipython",
    "version": 2
   },
   "file_extension": ".py",
   "mimetype": "text/x-python",
   "name": "python",
   "nbconvert_exporter": "python",
   "pygments_lexer": "ipython2",
   "version": "2.7.15"
  },
  "nbpresent": {
   "slides": {
    "b738dfa0-30f4-4350-8338-c31d236608ec": {
     "id": "b738dfa0-30f4-4350-8338-c31d236608ec",
     "prev": null,
     "regions": {
      "96278b08-d857-478b-803c-5921bd08bbcd": {
       "attrs": {
        "height": 0.8,
        "width": 0.8,
        "x": 0.1,
        "y": 0.1
       },
       "content": {
        "cell": "196b8a50-3d29-45c3-82b9-f4a09b49491d",
        "part": "whole"
       },
       "id": "96278b08-d857-478b-803c-5921bd08bbcd"
      },
      "9b98a7cc-d9d4-4a02-ac7e-30168dcde7af": {
       "attrs": {
        "height": 0.4,
        "width": 0.8,
        "x": 0.1,
        "y": 0.5
       },
       "content": {
        "cell": "2a573842-172b-4931-b0dd-9c9d3c47a450",
        "part": "whole"
       },
       "id": "9b98a7cc-d9d4-4a02-ac7e-30168dcde7af"
      }
     }
    }
   },
   "themes": {}
  }
 },
 "nbformat": 4,
 "nbformat_minor": 1
}
