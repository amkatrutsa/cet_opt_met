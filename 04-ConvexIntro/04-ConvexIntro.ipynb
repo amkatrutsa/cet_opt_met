{
 "cells": [
  {
   "cell_type": "markdown",
   "metadata": {
    "slideshow": {
     "slide_type": "slide"
    }
   },
   "source": [
    "# Тема 3\n",
    "# Введение в теорию выпуклой оптимизации"
   ]
  },
  {
   "cell_type": "markdown",
   "metadata": {
    "slideshow": {
     "slide_type": "slide"
    }
   },
   "source": [
    "## План\n",
    "\n",
    "- Выпуклые множества\n",
    "- Проекция точки на множество\n",
    "- Вычисление градиентов и гессианов\n",
    "- Выпуклые функции и их свойства"
   ]
  },
  {
   "cell_type": "markdown",
   "metadata": {
    "slideshow": {
     "slide_type": "slide"
    }
   },
   "source": [
    "## Выпуклые множества\n",
    "\n",
    "- Определение\n",
    "- Свойства\n",
    "- Операции, сохраняющие выпуклость\n",
    "- Примеры выпуклых множеств"
   ]
  },
  {
   "cell_type": "markdown",
   "metadata": {
    "slideshow": {
     "slide_type": "slide"
    }
   },
   "source": [
    "## Проекция точки на множество\n",
    "\n",
    "- Определение\n",
    "- Теорема о существовании и единственности\n",
    "- Примеры поиска проекции"
   ]
  },
  {
   "cell_type": "markdown",
   "metadata": {
    "slideshow": {
     "slide_type": "slide"
    }
   },
   "source": [
    "## Вычисление градиентов и гессианов\n",
    "\n",
    "- Определения\n",
    "- Общие правила \n",
    "- Примеры"
   ]
  },
  {
   "cell_type": "markdown",
   "metadata": {
    "slideshow": {
     "slide_type": "slide"
    }
   },
   "source": [
    "## Выпуклые функции\n",
    "\n",
    "- Определение\n",
    "- Свойства и критерии\n",
    "- Примеры"
   ]
  }
 ],
 "metadata": {
  "celltoolbar": "Slideshow",
  "kernelspec": {
   "display_name": "Python 3 (cvxpy)",
   "language": "python",
   "name": "cvxpy"
  },
  "language_info": {
   "codemirror_mode": {
    "name": "ipython",
    "version": 3
   },
   "file_extension": ".py",
   "mimetype": "text/x-python",
   "name": "python",
   "nbconvert_exporter": "python",
   "pygments_lexer": "ipython3",
   "version": "3.6.4"
  }
 },
 "nbformat": 4,
 "nbformat_minor": 2
}
